{
 "cells": [
  {
   "cell_type": "code",
   "execution_count": null,
   "metadata": {},
   "outputs": [],
   "source": [
    "#hide\n",
    "#all_slow"
   ]
  },
  {
   "cell_type": "markdown",
   "metadata": {},
   "source": [
    "# Steel Defect Detection\n",
    "\n",
    "> POC from multiple Severstal Kaggle Competition solutions."
   ]
  },
  {
   "cell_type": "code",
   "execution_count": 1,
   "metadata": {},
   "outputs": [],
   "source": [
    "#hide\n",
    "%load_ext autoreload\n",
    "%autoreload 2\n",
    "%matplotlib inline"
   ]
  },
  {
   "cell_type": "code",
   "execution_count": 2,
   "metadata": {},
   "outputs": [],
   "source": [
    "from fastai.vision.all import *\n",
    "from steel_segmentation.all import * \n",
    "\n",
    "import ipywidgets as widgets\n",
    "from ipywidgets import interact, interact_manual, interactive, VBox\n",
    "from IPython.display import Image"
   ]
  },
  {
   "cell_type": "code",
   "execution_count": 3,
   "metadata": {},
   "outputs": [],
   "source": [
    "def opt_func(params, **kwargs): return OptimWrapper(params, torch.optim.Adam, **kwargs)\n",
    "def splitter(m): return convert_params([[m.encoder], [m.decoder], [m.segmentation_head]])"
   ]
  },
  {
   "cell_type": "code",
   "execution_count": 4,
   "metadata": {},
   "outputs": [],
   "source": [
    "learner = load_learner(\"efficientnet-b2.pkl\")"
   ]
  },
  {
   "cell_type": "code",
   "execution_count": 40,
   "metadata": {},
   "outputs": [],
   "source": [
    "#hide_output\n",
    "btn_upload = widgets.FileUpload(multiple=False)\n",
    "clear_upload = widgets.Button(description='Clear')\n",
    "lbl_pred = widgets.Label()\n",
    "out_pl = widgets.Output()\n",
    "btn_run = widgets.Button(description='Classify')"
   ]
  },
  {
   "cell_type": "code",
   "execution_count": 42,
   "metadata": {},
   "outputs": [],
   "source": [
    "def get_defects(preds) -> str:\n",
    "    preds = preds.float()\n",
    "    \n",
    "    zero_preds = torch.zeros(tuple(preds.shape)[1:])\n",
    "    detected_defects = torch.cat([zero_preds.unsqueeze(axis=0), preds])\n",
    "    idx_defects = detected_defects.argmax(0).unique()\n",
    "    argmax_defects = list(np.sort(idx_defects.numpy()))\n",
    "    types_defects = [str(o) for o in argmax_defects][1:]\n",
    "    n_defects = len(types_defects)\n",
    "    \n",
    "    defects_word = \"defects\" if n_defects!=1 else \"defect\"\n",
    "    types_word = \"types\" if n_defects!=1 else \"type\"\n",
    "    if n_defects > 0:\n",
    "        return f\"Predicted: n°{n_defects} {defects_word} of {types_word}: {' '.join(types_defects)}\"\n",
    "    else:\n",
    "        return f\"Predicted: n°0 {defects_word}\"\n",
    "\n",
    "def segment_img(img):\n",
    "    rles, preds, probs = learner.predict(img)\n",
    "    title = get_defects(preds)\n",
    "    img_np = np.array(img)\n",
    "    w,h,_ = img_np.shape\n",
    "    \n",
    "    out_pl.clear_output()\n",
    "    with out_pl: \n",
    "        plot_mask_image(\"Original\", img_np, np.zeros((w,h,4)))\n",
    "        plot_mask_image(\"Predicted\", np.array(img), preds.permute(1,2,0).float().numpy())\n",
    "        \n",
    "    lbl_pred.value = title\n",
    "    \n",
    "def on_click_classify(change):\n",
    "    img = PILImage.create(btn_upload.data[-1]) # new release .content.tobytes()\n",
    "    segment_img(img)\n",
    "    \n",
    "def on_click_clear(change):\n",
    "    btn_upload.value.clear()\n",
    "    out_pl.clear_output()\n",
    "    lbl_pred.value = \"\"\n",
    "    btn_upload._counter = 0\n",
    "        \n",
    "btn_run.on_click(on_click_classify)\n",
    "clear_upload.on_click(on_click_clear)"
   ]
  },
  {
   "cell_type": "code",
   "execution_count": 44,
   "metadata": {
    "scrolled": false
   },
   "outputs": [
    {
     "data": {
      "application/vnd.jupyter.widget-view+json": {
       "model_id": "cb60959e471a49c19d3a75e556fc81eb",
       "version_major": 2,
       "version_minor": 0
      },
      "text/plain": [
       "VBox(children=(Label(value='Detect steel defects with image segmentation'), FileUpload(value={'0a1cade03.jpg':…"
      ]
     },
     "metadata": {},
     "output_type": "display_data"
    },
    {
     "data": {
      "text/html": [],
      "text/plain": [
       "<IPython.core.display.HTML object>"
      ]
     },
     "metadata": {},
     "output_type": "display_data"
    },
    {
     "data": {
      "text/html": [],
      "text/plain": [
       "<IPython.core.display.HTML object>"
      ]
     },
     "metadata": {},
     "output_type": "display_data"
    },
    {
     "data": {
      "text/html": [],
      "text/plain": [
       "<IPython.core.display.HTML object>"
      ]
     },
     "metadata": {},
     "output_type": "display_data"
    },
    {
     "data": {
      "text/html": [],
      "text/plain": [
       "<IPython.core.display.HTML object>"
      ]
     },
     "metadata": {},
     "output_type": "display_data"
    },
    {
     "data": {
      "text/html": [],
      "text/plain": [
       "<IPython.core.display.HTML object>"
      ]
     },
     "metadata": {},
     "output_type": "display_data"
    },
    {
     "data": {
      "text/html": [],
      "text/plain": [
       "<IPython.core.display.HTML object>"
      ]
     },
     "metadata": {},
     "output_type": "display_data"
    }
   ],
   "source": [
    "VBox([widgets.Label('Detect steel defects with image segmentation'), \n",
    "      btn_upload, clear_upload, btn_run, out_pl, lbl_pred])"
   ]
  }
 ],
 "metadata": {
  "kernelspec": {
   "display_name": "Python 3",
   "language": "python",
   "name": "python3"
  },
  "language_info": {
   "codemirror_mode": {
    "name": "ipython",
    "version": 3
   },
   "file_extension": ".py",
   "mimetype": "text/x-python",
   "name": "python",
   "nbconvert_exporter": "python",
   "pygments_lexer": "ipython3",
   "version": "3.9.2"
  },
  "toc": {
   "base_numbering": 1,
   "nav_menu": {},
   "number_sections": true,
   "sideBar": true,
   "skip_h1_title": false,
   "title_cell": "Table of Contents",
   "title_sidebar": "Contents",
   "toc_cell": false,
   "toc_position": {},
   "toc_section_display": true,
   "toc_window_display": false
  },
  "varInspector": {
   "cols": {
    "lenName": 16,
    "lenType": 16,
    "lenVar": 40
   },
   "kernels_config": {
    "python": {
     "delete_cmd_postfix": "",
     "delete_cmd_prefix": "del ",
     "library": "var_list.py",
     "varRefreshCmd": "print(var_dic_list())"
    },
    "r": {
     "delete_cmd_postfix": ") ",
     "delete_cmd_prefix": "rm(",
     "library": "var_list.r",
     "varRefreshCmd": "cat(var_dic_list()) "
    }
   },
   "types_to_exclude": [
    "module",
    "function",
    "builtin_function_or_method",
    "instance",
    "_Feature"
   ],
   "window_display": false
  }
 },
 "nbformat": 4,
 "nbformat_minor": 4
}
